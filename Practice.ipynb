{
 "cells": [
  {
   "cell_type": "code",
   "execution_count": null,
   "metadata": {},
   "outputs": [],
   "source": [
    "# jupyter nbconvert --to markdown 00py_oop.ipynb --output README.md"
   ]
  },
  {
   "cell_type": "markdown",
   "metadata": {},
   "source": [
    "# Python Basic"
   ]
  },
  {
   "cell_type": "markdown",
   "metadata": {},
   "source": [
    "## Expression vs Statement"
   ]
  },
  {
   "cell_type": "code",
   "execution_count": 2,
   "metadata": {},
   "outputs": [],
   "source": [
    "iq=100\n",
    "user_age=iq/100 # iq/100 is a Expression and full is statement"
   ]
  },
  {
   "cell_type": "markdown",
   "metadata": {},
   "source": [
    "## Agument assignment opeerator\n"
   ]
  },
  {
   "cell_type": "code",
   "execution_count": 4,
   "metadata": {},
   "outputs": [
    {
     "name": "stdout",
     "output_type": "stream",
     "text": [
      "200\n"
     ]
    }
   ],
   "source": [
    "some_value=10\n",
    "some_value+=10 # some_value=some_value+10\n",
    "some_value*=10 # some_value=some_value*10\n",
    "print(some_value)"
   ]
  },
  {
   "cell_type": "markdown",
   "metadata": {},
   "source": [
    "## String"
   ]
  },
  {
   "cell_type": "markdown",
   "metadata": {},
   "source": [
    "### String concatenation and type conversion"
   ]
  },
  {
   "cell_type": "code",
   "execution_count": 10,
   "metadata": {},
   "outputs": [
    {
     "name": "stdout",
     "output_type": "stream",
     "text": [
      "helloworld5\n",
      "<class 'int'>\n"
     ]
    }
   ],
   "source": [
    "# print(\"hello\"+\"world\"+5)\n",
    "print(\"hello\"+\"world\"+str(5))\n",
    "a=str(5)\n",
    "b=int(a)\n",
    "c=type(b)\n",
    "print(c)\n"
   ]
  },
  {
   "cell_type": "code",
   "execution_count": 3,
   "metadata": {},
   "outputs": [
    {
     "name": "stdout",
     "output_type": "stream",
     "text": [
      "It's \"kind off\" sunny today\n"
     ]
    }
   ],
   "source": [
    "## Escape Sequences\n",
    "weather = \"It\\'s \\\"kind off\\\" sunny today\"\n",
    "print(weather)"
   ]
  },
  {
   "cell_type": "markdown",
   "metadata": {},
   "source": [
    "## formatted string"
   ]
  },
  {
   "cell_type": "code",
   "execution_count": 10,
   "metadata": {},
   "outputs": [
    {
     "name": "stdout",
     "output_type": "stream",
     "text": [
      "hi John you are 45\n",
      "hi John you are 45\n",
      "hi John you are 45\n",
      "hi John you are 45\n"
     ]
    }
   ],
   "source": [
    "name = \"John\"\n",
    "age=45\n",
    "print(\"hi \"+name+\" you are \"+str(age))\n",
    "print(\"hi %s you are %d\" %(name,age))\n",
    "print(f'hi {name} you are {age}')\n",
    "print('hi {0} you are {1}'.format(name,age))"
   ]
  }
 ],
 "metadata": {
  "interpreter": {
   "hash": "57bc2b6ce032b5f0e93daa91901b7ea38a856826ef43aa9e95b6d3999f5310df"
  },
  "kernelspec": {
   "display_name": "Python 3.9.12 ('base')",
   "language": "python",
   "name": "python3"
  },
  "language_info": {
   "codemirror_mode": {
    "name": "ipython",
    "version": 3
   },
   "file_extension": ".py",
   "mimetype": "text/x-python",
   "name": "python",
   "nbconvert_exporter": "python",
   "pygments_lexer": "ipython3",
   "version": "3.9.12"
  },
  "orig_nbformat": 4
 },
 "nbformat": 4,
 "nbformat_minor": 2
}
